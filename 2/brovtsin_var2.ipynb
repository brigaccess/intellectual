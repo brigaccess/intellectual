{
 "cells": [
  {
   "cell_type": "markdown",
   "metadata": {},
   "source": [
    "# Бровцин Игорь, гр. 3530903/70302, вариант 2"
   ]
  },
  {
   "cell_type": "markdown",
   "metadata": {},
   "source": [
    "> 3. Определить тип сериализации у вашего файла, из изученных на практике и лекции.\n",
    "\n",
    "Это формат comma-separated values — формат \"морская свинка\" (конкретно часть про запятые имеет отношение к фактическому разделителю такое же, как морская свинка имеет к морю, потому что пихают туда кто во что горазд, обычно semicolon (`;`).\n",
    "\n",
    "Загружать можно через `csv` из stdlib (это для программистов, з/п которых даже бомж в толстовке «мэйл ру групп» считает копейками) или через уютненький pandas прямо в датафреймы (это для дата-саентистов, з/п которых пронзает небеса)"
   ]
  },
  {
   "cell_type": "code",
   "execution_count": 80,
   "metadata": {},
   "outputs": [],
   "source": [
    "import pandas as pd\n",
    "import numpy as np\n",
    "data = pd.read_csv(\"var02.csv\", index_col=0)"
   ]
  },
  {
   "cell_type": "markdown",
   "metadata": {},
   "source": [
    ">4. Считать данные файла c помощью языка python и среды разработки Jupyter и выполнить следующие действия:\n",
    "\n",
    "> Найти среднее и дисперсию каждого столбца.\n",
    "\n",
    "Просто:"
   ]
  },
  {
   "cell_type": "code",
   "execution_count": 37,
   "metadata": {},
   "outputs": [
    {
     "data": {
      "text/html": [
       "<div>\n",
       "<style scoped>\n",
       "    .dataframe tbody tr th:only-of-type {\n",
       "        vertical-align: middle;\n",
       "    }\n",
       "\n",
       "    .dataframe tbody tr th {\n",
       "        vertical-align: top;\n",
       "    }\n",
       "\n",
       "    .dataframe thead th {\n",
       "        text-align: right;\n",
       "    }\n",
       "</style>\n",
       "<table border=\"1\" class=\"dataframe\">\n",
       "  <thead>\n",
       "    <tr style=\"text-align: right;\">\n",
       "      <th></th>\n",
       "      <th>issqd</th>\n",
       "      <th>tgwis</th>\n",
       "      <th>lpurr</th>\n",
       "    </tr>\n",
       "  </thead>\n",
       "  <tbody>\n",
       "    <tr>\n",
       "      <th>count</th>\n",
       "      <td>100.000000</td>\n",
       "      <td>100.000000</td>\n",
       "      <td>100.000000</td>\n",
       "    </tr>\n",
       "    <tr>\n",
       "      <th>mean</th>\n",
       "      <td>10.709672</td>\n",
       "      <td>12.822898</td>\n",
       "      <td>12.174817</td>\n",
       "    </tr>\n",
       "    <tr>\n",
       "      <th>std</th>\n",
       "      <td>19.775325</td>\n",
       "      <td>21.117475</td>\n",
       "      <td>28.228534</td>\n",
       "    </tr>\n",
       "    <tr>\n",
       "      <th>min</th>\n",
       "      <td>-24.033425</td>\n",
       "      <td>-7.382003</td>\n",
       "      <td>-156.965353</td>\n",
       "    </tr>\n",
       "    <tr>\n",
       "      <th>25%</th>\n",
       "      <td>4.251712</td>\n",
       "      <td>4.265025</td>\n",
       "      <td>4.638543</td>\n",
       "    </tr>\n",
       "    <tr>\n",
       "      <th>50%</th>\n",
       "      <td>8.710307</td>\n",
       "      <td>10.210038</td>\n",
       "      <td>10.278707</td>\n",
       "    </tr>\n",
       "    <tr>\n",
       "      <th>75%</th>\n",
       "      <td>14.144253</td>\n",
       "      <td>16.207630</td>\n",
       "      <td>17.668104</td>\n",
       "    </tr>\n",
       "    <tr>\n",
       "      <th>max</th>\n",
       "      <td>143.551699</td>\n",
       "      <td>159.862323</td>\n",
       "      <td>183.615937</td>\n",
       "    </tr>\n",
       "  </tbody>\n",
       "</table>\n",
       "</div>"
      ],
      "text/plain": [
       "            issqd       tgwis       lpurr\n",
       "count  100.000000  100.000000  100.000000\n",
       "mean    10.709672   12.822898   12.174817\n",
       "std     19.775325   21.117475   28.228534\n",
       "min    -24.033425   -7.382003 -156.965353\n",
       "25%      4.251712    4.265025    4.638543\n",
       "50%      8.710307   10.210038   10.278707\n",
       "75%     14.144253   16.207630   17.668104\n",
       "max    143.551699  159.862323  183.615937"
      ]
     },
     "execution_count": 37,
     "metadata": {},
     "output_type": "execute_result"
    }
   ],
   "source": [
    "data.describe()"
   ]
  },
  {
   "cell_type": "markdown",
   "metadata": {},
   "source": [
    "Непросто:"
   ]
  },
  {
   "cell_type": "code",
   "execution_count": 38,
   "metadata": {},
   "outputs": [
    {
     "data": {
      "text/plain": [
       "(10.709672303086899, 12.822898236702056, 12.174816972706529)"
      ]
     },
     "execution_count": 38,
     "metadata": {},
     "output_type": "execute_result"
    }
   ],
   "source": [
    "data[\"issqd\"].mean(), data[\"tgwis\"].mean(), data[\"lpurr\"].mean()"
   ]
  },
  {
   "cell_type": "code",
   "execution_count": 39,
   "metadata": {},
   "outputs": [
    {
     "data": {
      "text/plain": [
       "(19.77532518185768, 21.117474566481444, 28.228533886084684)"
      ]
     },
     "execution_count": 39,
     "metadata": {},
     "output_type": "execute_result"
    }
   ],
   "source": [
    "data[\"issqd\"].std(), data[\"tgwis\"].std(), data[\"lpurr\"].std()"
   ]
  },
  {
   "cell_type": "markdown",
   "metadata": {},
   "source": [
    "> - Визуализировать датасет любым удобным способом. Можно несколькими графиками"
   ]
  },
  {
   "cell_type": "code",
   "execution_count": 40,
   "metadata": {},
   "outputs": [
    {
     "data": {
      "text/plain": [
       "<matplotlib.axes._subplots.AxesSubplot at 0x7f7558014880>"
      ]
     },
     "execution_count": 40,
     "metadata": {},
     "output_type": "execute_result"
    },
    {
     "data": {
      "image/png": "[encoded data removed]",
      "text/plain": [
       "<Figure size 432x288 with 1 Axes>"
      ]
     },
     "metadata": {
      "needs_background": "light"
     },
     "output_type": "display_data"
    }
   ],
   "source": [
    "data[\"issqd\"].plot()"
   ]
  },
  {
   "cell_type": "code",
   "execution_count": 41,
   "metadata": {},
   "outputs": [
    {
     "data": {
      "text/plain": [
       "<matplotlib.axes._subplots.AxesSubplot at 0x7f7557f6e640>"
      ]
     },
     "execution_count": 41,
     "metadata": {},
     "output_type": "execute_result"
    },
    {
     "data": {
      "image/png": "[encoded data removed]",
      "text/plain": [
       "<Figure size 432x288 with 1 Axes>"
      ]
     },
     "metadata": {
      "needs_background": "light"
     },
     "output_type": "display_data"
    }
   ],
   "source": [
    "data[\"tgwis\"].plot()"
   ]
  },
  {
   "cell_type": "code",
   "execution_count": 42,
   "metadata": {},
   "outputs": [
    {
     "data": {
      "text/plain": [
       "<matplotlib.axes._subplots.AxesSubplot at 0x7f7557f45b50>"
      ]
     },
     "execution_count": 42,
     "metadata": {},
     "output_type": "execute_result"
    },
    {
     "data": {
      "image/png": "[encoded data removed]",
      "text/plain": [
       "<Figure size 432x288 with 1 Axes>"
      ]
     },
     "metadata": {
      "needs_background": "light"
     },
     "output_type": "display_data"
    }
   ],
   "source": [
    "data[\"lpurr\"].plot()"
   ]
  },
  {
   "cell_type": "markdown",
   "metadata": {},
   "source": [
    "> - Построить графики для каждой пары признаков в наборе данных."
   ]
  },
  {
   "cell_type": "code",
   "execution_count": 43,
   "metadata": {},
   "outputs": [
    {
     "data": {
      "text/plain": [
       "<matplotlib.axes._subplots.AxesSubplot at 0x7f7557f455e0>"
      ]
     },
     "execution_count": 43,
     "metadata": {},
     "output_type": "execute_result"
    },
    {
     "data": {
      "image/png": "[encoded data removed]",
      "text/plain": [
       "<Figure size 432x288 with 1 Axes>"
      ]
     },
     "metadata": {
      "needs_background": "light"
     },
     "output_type": "display_data"
    }
   ],
   "source": [
    "ax = data[\"issqd\"].plot()\n",
    "data[\"tgwis\"].plot(ax=ax)"
   ]
  },
  {
   "cell_type": "code",
   "execution_count": 44,
   "metadata": {},
   "outputs": [
    {
     "data": {
      "text/plain": [
       "<matplotlib.axes._subplots.AxesSubplot at 0x7f7557e715b0>"
      ]
     },
     "execution_count": 44,
     "metadata": {},
     "output_type": "execute_result"
    },
    {
     "data": {
      "image/png": "[encoded data removed]",
      "text/plain": [
       "<Figure size 432x288 with 1 Axes>"
      ]
     },
     "metadata": {
      "needs_background": "light"
     },
     "output_type": "display_data"
    }
   ],
   "source": [
    "ax = data[\"issqd\"].plot()\n",
    "data[\"lpurr\"].plot(ax=ax)"
   ]
  },
  {
   "cell_type": "code",
   "execution_count": 45,
   "metadata": {},
   "outputs": [
    {
     "data": {
      "text/plain": [
       "<matplotlib.axes._subplots.AxesSubplot at 0x7f7557e50d60>"
      ]
     },
     "execution_count": 45,
     "metadata": {},
     "output_type": "execute_result"
    },
    {
     "data": {
      "image/png": "[encoded data removed]",
      "text/plain": [
       "<Figure size 432x288 with 1 Axes>"
      ]
     },
     "metadata": {
      "needs_background": "light"
     },
     "output_type": "display_data"
    }
   ],
   "source": [
    "ax = data[\"tgwis\"].plot()\n",
    "data[\"lpurr\"].plot(ax=ax)"
   ]
  },
  {
   "cell_type": "markdown",
   "metadata": {},
   "source": [
    "> - Построить гистограмму каждого из признаков."
   ]
  },
  {
   "cell_type": "code",
   "execution_count": 47,
   "metadata": {},
   "outputs": [
    {
     "data": {
      "text/plain": [
       "<matplotlib.axes._subplots.AxesSubplot at 0x7f7557d584f0>"
      ]
     },
     "execution_count": 47,
     "metadata": {},
     "output_type": "execute_result"
    },
    {
     "data": {
      "image/png": "[encoded data removed]",
      "text/plain": [
       "<Figure size 432x288 with 1 Axes>"
      ]
     },
     "metadata": {
      "needs_background": "light"
     },
     "output_type": "display_data"
    }
   ],
   "source": [
    "data[\"issqd\"].plot.hist()"
   ]
  },
  {
   "cell_type": "code",
   "execution_count": 48,
   "metadata": {},
   "outputs": [
    {
     "data": {
      "text/plain": [
       "<matplotlib.axes._subplots.AxesSubplot at 0x7f7557cbd9a0>"
      ]
     },
     "execution_count": 48,
     "metadata": {},
     "output_type": "execute_result"
    },
    {
     "data": {
      "image/png": "[encoded data removed]",
      "text/plain": [
       "<Figure size 432x288 with 1 Axes>"
      ]
     },
     "metadata": {
      "needs_background": "light"
     },
     "output_type": "display_data"
    }
   ],
   "source": [
    "data[\"tgwis\"].plot.hist()"
   ]
  },
  {
   "cell_type": "code",
   "execution_count": 49,
   "metadata": {},
   "outputs": [
    {
     "data": {
      "text/plain": [
       "<matplotlib.axes._subplots.AxesSubplot at 0x7f7557f49850>"
      ]
     },
     "execution_count": 49,
     "metadata": {},
     "output_type": "execute_result"
    },
    {
     "data": {
      "image/png": "[encoded data removed]",
      "text/plain": [
       "<Figure size 432x288 with 1 Axes>"
      ]
     },
     "metadata": {
      "needs_background": "light"
     },
     "output_type": "display_data"
    }
   ],
   "source": [
    "data[\"lpurr\"].plot.hist()"
   ]
  },
  {
   "cell_type": "markdown",
   "metadata": {},
   "source": [
    "> - Найти выбросы. Удалить их.\n",
    "\n",
    ">     Если номер варианта четный - удалить всю строку данных из выборки."
   ]
  },
  {
   "cell_type": "code",
   "execution_count": 77,
   "metadata": {},
   "outputs": [
    {
     "data": {
      "text/html": [
       "<div>\n",
       "<style scoped>\n",
       "    .dataframe tbody tr th:only-of-type {\n",
       "        vertical-align: middle;\n",
       "    }\n",
       "\n",
       "    .dataframe tbody tr th {\n",
       "        vertical-align: top;\n",
       "    }\n",
       "\n",
       "    .dataframe thead th {\n",
       "        text-align: right;\n",
       "    }\n",
       "</style>\n",
       "<table border=\"1\" class=\"dataframe\">\n",
       "  <thead>\n",
       "    <tr style=\"text-align: right;\">\n",
       "      <th></th>\n",
       "      <th>issqd</th>\n",
       "      <th>tgwis</th>\n",
       "      <th>lpurr</th>\n",
       "      <th>Outstanding</th>\n",
       "    </tr>\n",
       "  </thead>\n",
       "  <tbody>\n",
       "    <tr>\n",
       "      <th>0</th>\n",
       "      <td>16.094858</td>\n",
       "      <td>16.185259</td>\n",
       "      <td>-6.191322</td>\n",
       "      <td>False</td>\n",
       "    </tr>\n",
       "    <tr>\n",
       "      <th>1</th>\n",
       "      <td>2.160382</td>\n",
       "      <td>10.037132</td>\n",
       "      <td>3.969154</td>\n",
       "      <td>False</td>\n",
       "    </tr>\n",
       "    <tr>\n",
       "      <th>2</th>\n",
       "      <td>-15.002846</td>\n",
       "      <td>15.051222</td>\n",
       "      <td>-1.579902</td>\n",
       "      <td>False</td>\n",
       "    </tr>\n",
       "    <tr>\n",
       "      <th>4</th>\n",
       "      <td>12.394263</td>\n",
       "      <td>1.990535</td>\n",
       "      <td>23.574982</td>\n",
       "      <td>False</td>\n",
       "    </tr>\n",
       "    <tr>\n",
       "      <th>5</th>\n",
       "      <td>15.762737</td>\n",
       "      <td>18.012194</td>\n",
       "      <td>16.353897</td>\n",
       "      <td>False</td>\n",
       "    </tr>\n",
       "    <tr>\n",
       "      <th>...</th>\n",
       "      <td>...</td>\n",
       "      <td>...</td>\n",
       "      <td>...</td>\n",
       "      <td>...</td>\n",
       "    </tr>\n",
       "    <tr>\n",
       "      <th>95</th>\n",
       "      <td>-3.431341</td>\n",
       "      <td>2.055402</td>\n",
       "      <td>16.691261</td>\n",
       "      <td>False</td>\n",
       "    </tr>\n",
       "    <tr>\n",
       "      <th>96</th>\n",
       "      <td>12.121737</td>\n",
       "      <td>2.216489</td>\n",
       "      <td>11.796341</td>\n",
       "      <td>False</td>\n",
       "    </tr>\n",
       "    <tr>\n",
       "      <th>97</th>\n",
       "      <td>12.767933</td>\n",
       "      <td>20.158369</td>\n",
       "      <td>9.338003</td>\n",
       "      <td>False</td>\n",
       "    </tr>\n",
       "    <tr>\n",
       "      <th>98</th>\n",
       "      <td>-3.690659</td>\n",
       "      <td>10.622768</td>\n",
       "      <td>20.219277</td>\n",
       "      <td>False</td>\n",
       "    </tr>\n",
       "    <tr>\n",
       "      <th>99</th>\n",
       "      <td>5.129605</td>\n",
       "      <td>-3.596674</td>\n",
       "      <td>18.814691</td>\n",
       "      <td>False</td>\n",
       "    </tr>\n",
       "  </tbody>\n",
       "</table>\n",
       "<p>93 rows × 4 columns</p>\n",
       "</div>"
      ],
      "text/plain": [
       "        issqd      tgwis      lpurr  Outstanding\n",
       "0   16.094858  16.185259  -6.191322        False\n",
       "1    2.160382  10.037132   3.969154        False\n",
       "2  -15.002846  15.051222  -1.579902        False\n",
       "4   12.394263   1.990535  23.574982        False\n",
       "5   15.762737  18.012194  16.353897        False\n",
       "..        ...        ...        ...          ...\n",
       "95  -3.431341   2.055402  16.691261        False\n",
       "96  12.121737   2.216489  11.796341        False\n",
       "97  12.767933  20.158369   9.338003        False\n",
       "98  -3.690659  10.622768  20.219277        False\n",
       "99   5.129605  -3.596674  18.814691        False\n",
       "\n",
       "[93 rows x 4 columns]"
      ]
     },
     "execution_count": 77,
     "metadata": {},
     "output_type": "execute_result"
    }
   ],
   "source": [
    "mean_keys = data.columns\n",
    "means = [data[k].mean() for k in mean_keys]\n",
    "\n",
    "data[\"Outstanding\"] = sum([abs(data[k]) < abs(means[i]) * 10 for i, k in enumerate(mean_keys)]) < len(mean_keys)\n",
    "filtered = data[data[\"Outstanding\"] == False]\n",
    "filtered"
   ]
  },
  {
   "cell_type": "markdown",
   "metadata": {},
   "source": [
    "> - Найти новые средние и дисперсии\n",
    "\n",
    "Давайте просто"
   ]
  },
  {
   "cell_type": "code",
   "execution_count": 78,
   "metadata": {},
   "outputs": [
    {
     "data": {
      "text/html": [
       "<div>\n",
       "<style scoped>\n",
       "    .dataframe tbody tr th:only-of-type {\n",
       "        vertical-align: middle;\n",
       "    }\n",
       "\n",
       "    .dataframe tbody tr th {\n",
       "        vertical-align: top;\n",
       "    }\n",
       "\n",
       "    .dataframe thead th {\n",
       "        text-align: right;\n",
       "    }\n",
       "</style>\n",
       "<table border=\"1\" class=\"dataframe\">\n",
       "  <thead>\n",
       "    <tr style=\"text-align: right;\">\n",
       "      <th></th>\n",
       "      <th>issqd</th>\n",
       "      <th>tgwis</th>\n",
       "      <th>lpurr</th>\n",
       "    </tr>\n",
       "  </thead>\n",
       "  <tbody>\n",
       "    <tr>\n",
       "      <th>count</th>\n",
       "      <td>93.000000</td>\n",
       "      <td>93.000000</td>\n",
       "      <td>93.000000</td>\n",
       "    </tr>\n",
       "    <tr>\n",
       "      <th>mean</th>\n",
       "      <td>8.143232</td>\n",
       "      <td>9.704115</td>\n",
       "      <td>10.979113</td>\n",
       "    </tr>\n",
       "    <tr>\n",
       "      <th>std</th>\n",
       "      <td>8.290695</td>\n",
       "      <td>7.432082</td>\n",
       "      <td>8.189780</td>\n",
       "    </tr>\n",
       "    <tr>\n",
       "      <th>min</th>\n",
       "      <td>-24.033425</td>\n",
       "      <td>-7.382003</td>\n",
       "      <td>-6.643950</td>\n",
       "    </tr>\n",
       "    <tr>\n",
       "      <th>25%</th>\n",
       "      <td>4.346964</td>\n",
       "      <td>3.811672</td>\n",
       "      <td>4.734904</td>\n",
       "    </tr>\n",
       "    <tr>\n",
       "      <th>50%</th>\n",
       "      <td>8.551305</td>\n",
       "      <td>9.972654</td>\n",
       "      <td>10.055097</td>\n",
       "    </tr>\n",
       "    <tr>\n",
       "      <th>75%</th>\n",
       "      <td>13.839679</td>\n",
       "      <td>15.320142</td>\n",
       "      <td>17.358354</td>\n",
       "    </tr>\n",
       "    <tr>\n",
       "      <th>max</th>\n",
       "      <td>25.050085</td>\n",
       "      <td>30.179824</td>\n",
       "      <td>28.583308</td>\n",
       "    </tr>\n",
       "  </tbody>\n",
       "</table>\n",
       "</div>"
      ],
      "text/plain": [
       "           issqd      tgwis      lpurr\n",
       "count  93.000000  93.000000  93.000000\n",
       "mean    8.143232   9.704115  10.979113\n",
       "std     8.290695   7.432082   8.189780\n",
       "min   -24.033425  -7.382003  -6.643950\n",
       "25%     4.346964   3.811672   4.734904\n",
       "50%     8.551305   9.972654  10.055097\n",
       "75%    13.839679  15.320142  17.358354\n",
       "max    25.050085  30.179824  28.583308"
      ]
     },
     "execution_count": 78,
     "metadata": {},
     "output_type": "execute_result"
    }
   ],
   "source": [
    "filtered.describe()"
   ]
  },
  {
   "cell_type": "markdown",
   "metadata": {},
   "source": [
    "> сравнить со старыми.\n",
    "\n",
    "Тогда сложно"
   ]
  },
  {
   "cell_type": "code",
   "execution_count": 83,
   "metadata": {},
   "outputs": [
    {
     "data": {
      "text/plain": [
       "array([2.56644068, 3.11878367, 1.19570407])"
      ]
     },
     "execution_count": 83,
     "metadata": {},
     "output_type": "execute_result"
    }
   ],
   "source": [
    "np.array([data[k].mean() for k in data.columns]) - np.array([filtered[k].mean() for k in data.columns])"
   ]
  },
  {
   "cell_type": "code",
   "execution_count": 84,
   "metadata": {},
   "outputs": [
    {
     "data": {
      "text/plain": [
       "array([11.48463003, 13.68539217, 20.03875409])"
      ]
     },
     "execution_count": 84,
     "metadata": {},
     "output_type": "execute_result"
    }
   ],
   "source": [
    "np.array([data[k].std() for k in data.columns]) - np.array([filtered[k].std() for k in data.columns])"
   ]
  },
  {
   "cell_type": "markdown",
   "metadata": {},
   "source": [
    "> - Нормализовать данные по среднему и дисперсии.\n",
    "\n",
    "Попробуем min-max нормализацию, честно утащенную из интернетов (god bless stack overflow)"
   ]
  },
  {
   "cell_type": "code",
   "execution_count": 87,
   "metadata": {},
   "outputs": [
    {
     "data": {
      "text/html": [
       "<div>\n",
       "<style scoped>\n",
       "    .dataframe tbody tr th:only-of-type {\n",
       "        vertical-align: middle;\n",
       "    }\n",
       "\n",
       "    .dataframe tbody tr th {\n",
       "        vertical-align: top;\n",
       "    }\n",
       "\n",
       "    .dataframe thead th {\n",
       "        text-align: right;\n",
       "    }\n",
       "</style>\n",
       "<table border=\"1\" class=\"dataframe\">\n",
       "  <thead>\n",
       "    <tr style=\"text-align: right;\">\n",
       "      <th></th>\n",
       "      <th>issqd</th>\n",
       "      <th>tgwis</th>\n",
       "      <th>lpurr</th>\n",
       "      <th>Outstanding</th>\n",
       "    </tr>\n",
       "  </thead>\n",
       "  <tbody>\n",
       "    <tr>\n",
       "      <th>0</th>\n",
       "      <td>0.817551</td>\n",
       "      <td>0.627426</td>\n",
       "      <td>0.012849</td>\n",
       "      <td>NaN</td>\n",
       "    </tr>\n",
       "    <tr>\n",
       "      <th>1</th>\n",
       "      <td>0.533658</td>\n",
       "      <td>0.463746</td>\n",
       "      <td>0.301275</td>\n",
       "      <td>NaN</td>\n",
       "    </tr>\n",
       "    <tr>\n",
       "      <th>2</th>\n",
       "      <td>0.183984</td>\n",
       "      <td>0.597235</td>\n",
       "      <td>0.143754</td>\n",
       "      <td>NaN</td>\n",
       "    </tr>\n",
       "    <tr>\n",
       "      <th>4</th>\n",
       "      <td>0.742157</td>\n",
       "      <td>0.249523</td>\n",
       "      <td>0.857828</td>\n",
       "      <td>NaN</td>\n",
       "    </tr>\n",
       "    <tr>\n",
       "      <th>5</th>\n",
       "      <td>0.810785</td>\n",
       "      <td>0.676064</td>\n",
       "      <td>0.652842</td>\n",
       "      <td>NaN</td>\n",
       "    </tr>\n",
       "    <tr>\n",
       "      <th>...</th>\n",
       "      <td>...</td>\n",
       "      <td>...</td>\n",
       "      <td>...</td>\n",
       "      <td>...</td>\n",
       "    </tr>\n",
       "    <tr>\n",
       "      <th>95</th>\n",
       "      <td>0.419735</td>\n",
       "      <td>0.251250</td>\n",
       "      <td>0.662419</td>\n",
       "      <td>NaN</td>\n",
       "    </tr>\n",
       "    <tr>\n",
       "      <th>96</th>\n",
       "      <td>0.736605</td>\n",
       "      <td>0.255538</td>\n",
       "      <td>0.523467</td>\n",
       "      <td>NaN</td>\n",
       "    </tr>\n",
       "    <tr>\n",
       "      <th>97</th>\n",
       "      <td>0.749770</td>\n",
       "      <td>0.733201</td>\n",
       "      <td>0.453681</td>\n",
       "      <td>NaN</td>\n",
       "    </tr>\n",
       "    <tr>\n",
       "      <th>98</th>\n",
       "      <td>0.414452</td>\n",
       "      <td>0.479337</td>\n",
       "      <td>0.762569</td>\n",
       "      <td>NaN</td>\n",
       "    </tr>\n",
       "    <tr>\n",
       "      <th>99</th>\n",
       "      <td>0.594151</td>\n",
       "      <td>0.100776</td>\n",
       "      <td>0.722697</td>\n",
       "      <td>NaN</td>\n",
       "    </tr>\n",
       "  </tbody>\n",
       "</table>\n",
       "<p>93 rows × 4 columns</p>\n",
       "</div>"
      ],
      "text/plain": [
       "       issqd     tgwis     lpurr  Outstanding\n",
       "0   0.817551  0.627426  0.012849          NaN\n",
       "1   0.533658  0.463746  0.301275          NaN\n",
       "2   0.183984  0.597235  0.143754          NaN\n",
       "4   0.742157  0.249523  0.857828          NaN\n",
       "5   0.810785  0.676064  0.652842          NaN\n",
       "..       ...       ...       ...          ...\n",
       "95  0.419735  0.251250  0.662419          NaN\n",
       "96  0.736605  0.255538  0.523467          NaN\n",
       "97  0.749770  0.733201  0.453681          NaN\n",
       "98  0.414452  0.479337  0.762569          NaN\n",
       "99  0.594151  0.100776  0.722697          NaN\n",
       "\n",
       "[93 rows x 4 columns]"
      ]
     },
     "execution_count": 87,
     "metadata": {},
     "output_type": "execute_result"
    }
   ],
   "source": [
    "normalized = (filtered - filtered.min()) / (filtered.max() - filtered.min())\n",
    "normalized"
   ]
  },
  {
   "cell_type": "markdown",
   "metadata": {},
   "source": [
    "> Схожие решения в большом количестве пунктов будут приняты за списывание с выдачей нового, другого, дополнительного задания.\n",
    "\n",
    "Интересно, сколько ещё людей сделали в половине пунктов примерно то же самое? Я выбирал самые очевидные решения, явное больше неявного и вот это вот всё.\n",
    "\n",
    "Пойду посплю."
   ]
  },
  {
   "cell_type": "code",
   "execution_count": 88,
   "metadata": {},
   "outputs": [],
   "source": [
    "import antigravity"
   ]
  }
 ],
 "metadata": {
  "kernelspec": {
   "display_name": "Python 3",
   "language": "python",
   "name": "python3"
  },
  "language_info": {
   "codemirror_mode": {
    "name": "ipython",
    "version": 3
   },
   "file_extension": ".py",
   "mimetype": "text/x-python",
   "name": "python",
   "nbconvert_exporter": "python",
   "pygments_lexer": "ipython3",
   "version": "3.8.3"
  }
 },
 "nbformat": 4,
 "nbformat_minor": 4
}
